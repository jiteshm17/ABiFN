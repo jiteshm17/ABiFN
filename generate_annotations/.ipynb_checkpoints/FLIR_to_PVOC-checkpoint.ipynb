{
 "cells": [
  {
   "cell_type": "markdown",
   "metadata": {},
   "source": [
    "# FLIR to PASCAL VOC Annotations"
   ]
  },
  {
   "cell_type": "code",
   "execution_count": 1,
   "metadata": {},
   "outputs": [],
   "source": [
    "import os\n",
    "import glob\n",
    "from pathlib import Path\n",
    "import json\n",
    "from tqdm import tqdm"
   ]
  },
  {
   "cell_type": "code",
   "execution_count": 2,
   "metadata": {},
   "outputs": [],
   "source": [
    "files_path = Path('./FLIR_ADAS/training/Annotations')\n",
    "files = files_path.glob('*.json')\n",
    "files = list(files)"
   ]
  },
  {
   "cell_type": "code",
   "execution_count": 3,
   "metadata": {},
   "outputs": [],
   "source": [
    "id_to_cat = {'3': 'car', '1': 'person', '2': 'bicycle', '18': 'dog'}"
   ]
  },
  {
   "cell_type": "code",
   "execution_count": 22,
   "metadata": {},
   "outputs": [],
   "source": [
    "files_names = []\n",
    "for each in range(len(files)):\n",
    "    with open(f'{files[each]}') as f:\n",
    "        ann = json.load(f)\n",
    "    filename = ann[\"image\"][\"file_name\"]\n",
    "    filename.strip('.')[0]\n",
    "    files_names.append(filename)"
   ]
  },
  {
   "cell_type": "code",
   "execution_count": 5,
   "metadata": {},
   "outputs": [],
   "source": [
    "with open('flir_train.txt', 'w') as f:\n",
    "    for each in files_names:\n",
    "        f.write(\"%s\\n\" % each)"
   ]
  },
  {
   "cell_type": "code",
   "execution_count": 6,
   "metadata": {},
   "outputs": [],
   "source": [
    "def getXMLAnn(ann):\n",
    "    st=\"\"\n",
    "    for i,b in enumerate(ann):\n",
    "        if i == 0:\n",
    "            st += f'\\\n",
    "        <object>\\n \\\n",
    "                <name>{id_to_cat[b[\"category_id\"]]}</name>\\n \\\n",
    "                <pose>Frontal</pose>\\n \\\n",
    "                <truncated>0</truncated>\\n \\\n",
    "                <difficult>0</difficult>\\n \\\n",
    "                <occluded>0</occluded>\\n \\\n",
    "                <bndbox>\\n \\\n",
    "                    <xmin>{b[\"bbox\"][0]}</xmin>\\n \\\n",
    "                    <xmax>{int(b[\"bbox\"][0])+int(b[\"bbox\"][2])}</xmax>\\n \\\n",
    "                    <ymin>{b[\"bbox\"][1]}</ymin>\\n \\\n",
    "                    <ymax>{int(b[\"bbox\"][1])+int(b[\"bbox\"][3])}</ymax>\\n \\\n",
    "                </bndbox>\\n \\\n",
    "            </object> \\n'\n",
    "        else:\n",
    "            st += f'\\\n",
    "            <object>\\n \\\n",
    "                <name>{id_to_cat[b[\"category_id\"]]}</name>\\n \\\n",
    "                <pose>Frontal</pose>\\n \\\n",
    "                <truncated>0</truncated>\\n \\\n",
    "                <difficult>0</difficult>\\n \\\n",
    "                <occluded>0</occluded>\\n \\\n",
    "                <bndbox>\\n \\\n",
    "                    <xmin>{b[\"bbox\"][0]}</xmin>\\n \\\n",
    "                    <xmax>{int(b[\"bbox\"][0])+int(b[\"bbox\"][2])}</xmax>\\n \\\n",
    "                    <ymin>{b[\"bbox\"][1]}</ymin>\\n \\\n",
    "                    <ymax>{int(b[\"bbox\"][1])+int(b[\"bbox\"][3])}</ymax>\\n \\\n",
    "                </bndbox>\\n \\\n",
    "            </object> \\n'\n",
    "    return st\n",
    "\n",
    "def toXML(ann):\n",
    "\n",
    "    x = f'\\\n",
    "<annotation>\\n \\\n",
    "    <folder>VOC2007</folder>\\n \\\n",
    "    <filename>{ann[\"image\"][\"file_name\"]}.jpg</filename>\\n \\\n",
    "    <source>\\n \\\n",
    "        <database>The VOC2007 Database</database>\\n \\\n",
    "        <annotation>PASCAL VOC2007</annotation> \\n \\\n",
    "    </source>\\n \\\n",
    "    <size>\\n \\\n",
    "        <width>{ann[\"image\"][\"width\"]}</width>\\n \\\n",
    "        <height>{ann[\"image\"][\"height\"]}</height>\\n \\\n",
    "        <depth>3</depth>\\n \\\n",
    "    </size>\\n \\\n",
    "    <segmented>0</segmented>\\n \\\n",
    "    {getXMLAnn(ann[\"annotation\"])} \\\n",
    "</annotation>\\n'\n",
    "    return x\n"
   ]
  },
  {
   "cell_type": "code",
   "execution_count": 37,
   "metadata": {},
   "outputs": [
    {
     "name": "stderr",
     "output_type": "stream",
     "text": [
      "100%|██████████| 8862/8862 [00:02<00:00, 3646.64it/s]\n"
     ]
    }
   ],
   "source": [
    "from tqdm import tqdm\n",
    "for each in tqdm(range(len(files))):\n",
    "    with open(f'{files[each]}') as f:\n",
    "        ann = json.load(f)\n",
    "    with open(f'./FLIR_ADAS/training/Annotations_PVOC/{ann[\"image\"][\"file_name\"]}.xml', 'w') as t:\n",
    "        t.write(toXML(ann))"
   ]
  },
  {
   "cell_type": "markdown",
   "metadata": {},
   "source": [
    "## Validation Data Annotations"
   ]
  },
  {
   "cell_type": "code",
   "execution_count": null,
   "metadata": {},
   "outputs": [],
   "source": [
    "files_path = Path('./FLIR_ADAS/validation/Annotations')\n",
    "files = files_path.glob('*.json')\n",
    "files = list(files)\n",
    "# domain = 'visible'"
   ]
  },
  {
   "cell_type": "code",
   "execution_count": 25,
   "metadata": {},
   "outputs": [],
   "source": [
    "with open('flir_valid.txt', 'w') as f:\n",
    "    for each in files_names:\n",
    "        f.write(\"%s\\n\" % each)"
   ]
  },
  {
   "cell_type": "markdown",
   "metadata": {},
   "source": [
    "#### In v1 of the dataset there is a problem in the validation annotations, annotation file name and the file tag inside the annotation do not match. We corrected this mistake before testing our models."
   ]
  },
  {
   "cell_type": "code",
   "execution_count": 8,
   "metadata": {},
   "outputs": [],
   "source": [
    "def getXMLAnn(ann):\n",
    "    st=\"\"\n",
    "    for i,b in enumerate(ann):\n",
    "        if i == 0:\n",
    "            st += f'\\\n",
    "        <object>\\n \\\n",
    "                <name>{id_to_cat[b[\"category_id\"]]}</name>\\n \\\n",
    "                <pose>Frontal</pose>\\n \\\n",
    "                <truncated>0</truncated>\\n \\\n",
    "                <difficult>0</difficult>\\n \\\n",
    "                <occluded>0</occluded>\\n \\\n",
    "                <bndbox>\\n \\\n",
    "                    <xmin>{b[\"bbox\"][0]}</xmin>\\n \\\n",
    "                    <xmax>{int(b[\"bbox\"][0])+int(b[\"bbox\"][2])}</xmax>\\n \\\n",
    "                    <ymin>{b[\"bbox\"][1]}</ymin>\\n \\\n",
    "                    <ymax>{int(b[\"bbox\"][1])+int(b[\"bbox\"][3])}</ymax>\\n \\\n",
    "                </bndbox>\\n \\\n",
    "            </object> \\n'\n",
    "        else:\n",
    "            st += f'\\\n",
    "            <object>\\n \\\n",
    "                <name>{id_to_cat[b[\"category_id\"]]}</name>\\n \\\n",
    "                <pose>Frontal</pose>\\n \\\n",
    "                <truncated>0</truncated>\\n \\\n",
    "                <difficult>0</difficult>\\n \\\n",
    "                <occluded>0</occluded>\\n \\\n",
    "                <bndbox>\\n \\\n",
    "                    <xmin>{b[\"bbox\"][0]}</xmin>\\n \\\n",
    "                    <xmax>{int(b[\"bbox\"][0])+int(b[\"bbox\"][2])}</xmax>\\n \\\n",
    "                    <ymin>{b[\"bbox\"][1]}</ymin>\\n \\\n",
    "                    <ymax>{int(b[\"bbox\"][1])+int(b[\"bbox\"][3])}</ymax>\\n \\\n",
    "                </bndbox>\\n \\\n",
    "            </object> \\n'\n",
    "    return st\n",
    "\n",
    "def toXML(ann, name):\n",
    "\n",
    "    x = f'\\\n",
    "<annotation>\\n \\\n",
    "    <folder>VOC2007</folder>\\n \\\n",
    "    <filename>{name}.jpg</filename>\\n \\\n",
    "    <source>\\n \\\n",
    "        <database>The VOC2007 Database</database>\\n \\\n",
    "        <annotation>PASCAL VOC2007</annotation> \\n \\\n",
    "    </source>\\n \\\n",
    "    <size>\\n \\\n",
    "        <width>{ann[\"image\"][\"width\"]}</width>\\n \\\n",
    "        <height>{ann[\"image\"][\"height\"]}</height>\\n \\\n",
    "        <depth>3</depth>\\n \\\n",
    "    </size>\\n \\\n",
    "    <segmented>0</segmented>\\n \\\n",
    "    {getXMLAnn(ann[\"annotation\"])} \\\n",
    "</annotation>\\n'\n",
    "    return x\n"
   ]
  },
  {
   "cell_type": "code",
   "execution_count": 10,
   "metadata": {},
   "outputs": [
    {
     "name": "stderr",
     "output_type": "stream",
     "text": [
      "100%|██████████| 1366/1366 [00:00<00:00, 5017.15it/s]\n"
     ]
    }
   ],
   "source": [
    "from tqdm import tqdm\n",
    "for each in tqdm(range(len(files))):\n",
    "    with open(f'{files[each]}') as f:\n",
    "        ann = json.load(f)\n",
    "    with open(f'./FLIR_ADAS/validation/Annotations_PVOC/{files[each].stem}.xml', 'w') as t:\n",
    "        t.write(toXML(ann, files[each].stem))"
   ]
  }
 ],
 "metadata": {
  "kernelspec": {
   "display_name": "Python 3",
   "language": "python",
   "name": "python3"
  },
  "language_info": {
   "codemirror_mode": {
    "name": "ipython",
    "version": 3
   },
   "file_extension": ".py",
   "mimetype": "text/x-python",
   "name": "python",
   "nbconvert_exporter": "python",
   "pygments_lexer": "ipython3",
   "version": "3.6.7"
  }
 },
 "nbformat": 4,
 "nbformat_minor": 2
}
