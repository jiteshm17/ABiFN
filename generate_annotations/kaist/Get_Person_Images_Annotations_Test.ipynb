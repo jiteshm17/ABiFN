{
 "cells": [
  {
   "cell_type": "code",
   "execution_count": 6,
   "metadata": {},
   "outputs": [],
   "source": [
    "import numpy as np\n",
    "import pandas as pd\n",
    "import shutil\n",
    "from tqdm import tqdm\n",
    "# path to the original KAIST dataset (undisturbed)\n",
    "PATH = '/DATA1/chaitanya/KAIST/rgbt-ped-detection/data/kaist-rgbt'\n",
    "# train-all-02 is the train split provided by KAIST, 02 refers to every second image\n",
    "test_list = list(open(f'{PATH}/imageSets/test-all-20.txt'))\n",
    "# to strip /n from all file names\n",
    "test_list = [each.strip() for each in test_list]"
   ]
  },
  {
   "cell_type": "code",
   "execution_count": 7,
   "metadata": {},
   "outputs": [
    {
     "data": {
      "text/plain": [
       "2252"
      ]
     },
     "execution_count": 7,
     "metadata": {},
     "output_type": "execute_result"
    }
   ],
   "source": [
    "len(test_list)"
   ]
  },
  {
   "cell_type": "code",
   "execution_count": 8,
   "metadata": {},
   "outputs": [],
   "source": [
    "import pdb\n",
    "def get_person_annotations(annotations_path, images_list):\n",
    "    \"\"\"\n",
    "    This function is used to get a subset of the images with atleast one person in the image\n",
    "    annotations-path: Directory containing the annotations folder in format: set00/V000/I00001.txt\n",
    "    images_list: List of the images with each entry of list in format: set00/V000/I00001\n",
    "    \n",
    "    returns: subset of the images_list which contain atleast one person annotation\n",
    "    \"\"\"\n",
    "    # empty list to appned the subset of images_list which have atleast one person annotation\n",
    "    images_with_person = []\n",
    "    for each in images_list:\n",
    "        ann_file_path = f'{annotations_path}/{each}.txt'\n",
    "        # strip \\n from the strings\n",
    "        ann_list = [each_x.split() for each_x in list(open(ann_file_path))]\n",
    "        # first line of txt file is '% bbGt version=3\\n' so we used len(ann_list > 1)\n",
    "        # first element in each sublist of ann_list consists the category, so we have \n",
    "        # taken the first column from entires list and checked if person is present \n",
    "        # in the annotation file or not\n",
    "        if (len(ann_list) > 1) and ('person' in np.array(ann_list[1:])[:, 0]):\n",
    "                images_with_person.append(each)\n",
    "    \n",
    "    return images_with_person"
   ]
  },
  {
   "cell_type": "code",
   "execution_count": 9,
   "metadata": {},
   "outputs": [],
   "source": [
    "subset_person = get_person_annotations('/DATA1/chaitanya/KAIST/rgbt-ped-detection/data/kaist-rgbt/annotations', test_list)"
   ]
  },
  {
   "cell_type": "code",
   "execution_count": 10,
   "metadata": {},
   "outputs": [
    {
     "data": {
      "text/plain": [
       "956"
      ]
     },
     "execution_count": 10,
     "metadata": {},
     "output_type": "execute_result"
    }
   ],
   "source": [
    "len(subset_person)"
   ]
  },
  {
   "cell_type": "code",
   "execution_count": 11,
   "metadata": {},
   "outputs": [],
   "source": [
    "with open('person-only-kaist-test.txt', 'w') as f:\n",
    "    for each in subset_person:\n",
    "        f.write(f'{each}\\n')"
   ]
  },
  {
   "cell_type": "code",
   "execution_count": 12,
   "metadata": {},
   "outputs": [],
   "source": [
    "def get_person_only(annotations_path, subset_list):\n",
    "    '''\n",
    "    Extracts 'person' (only) annotations from the subset of images with atleast on person\n",
    "    Input:  annotations-path: Directory containing the annotations folder in format: set00/V000/I00001.txt\n",
    "            subset_list (output of get_person_annotations): subset of the images_list which contain atleast one person annotation\n",
    "    \n",
    "    returns: dataframe with file_path, category: 'person' and annotations\n",
    "    '''\n",
    "    # dict for holding the file paths and corresponding person annotatiosn from that\n",
    "    id_to_ann = {}\n",
    "    for each in subset_list:\n",
    "        id_to_ann[each] = []\n",
    "        # strip \\n from the strings\n",
    "        ann_file_path = f'{annotations_path}/{each}.txt'\n",
    "        ann_list = [each_x.split() for each_x in list(open(ann_file_path))]\n",
    "        for every_ann in ann_list:\n",
    "            if every_ann[0] == 'person':\n",
    "                id_to_ann[each].append(every_ann[1:5])\n",
    "    return id_to_ann"
   ]
  },
  {
   "cell_type": "code",
   "execution_count": 13,
   "metadata": {},
   "outputs": [],
   "source": [
    "dict_person_ann = get_person_only('/DATA1/chaitanya/KAIST/rgbt-ped-detection/data/kaist-rgbt/annotations', subset_person)"
   ]
  },
  {
   "cell_type": "code",
   "execution_count": 14,
   "metadata": {},
   "outputs": [],
   "source": [
    "sum = 0\n",
    "for each in dict_person_ann.values():\n",
    "    sum += len(each)"
   ]
  },
  {
   "cell_type": "code",
   "execution_count": 15,
   "metadata": {},
   "outputs": [
    {
     "data": {
      "text/plain": [
       "2245"
      ]
     },
     "execution_count": 15,
     "metadata": {},
     "output_type": "execute_result"
    }
   ],
   "source": [
    "sum"
   ]
  },
  {
   "cell_type": "code",
   "execution_count": 12,
   "metadata": {},
   "outputs": [],
   "source": [
    "def get_images_to_folder(src_path, images_list):\n",
    "    for each in tqdm(images_list):\n",
    "        each_split = each.split('/')\n",
    "        src_lwir = f'{src_path}/images/{each_split[0]}/{each_split[1]}/lwir/{each_split[2]}.jpg'\n",
    "        src_visible = f'{src_path}/images/{each_split[0]}/{each_split[1]}/visible/{each_split[2]}.jpg'\n",
    "        fl_name = '_'.join(each_split)\n",
    "        dest_lwir = f'./images_TEST_20/lwir/{fl_name}.jpg'\n",
    "        dest_visble = f'./images_TEST_20/visible/{fl_name}.jpg'\n",
    "        shutil.copyfile(src_lwir, dest_lwir)\n",
    "        shutil.copyfile(src_visible, dest_visble)"
   ]
  },
  {
   "cell_type": "code",
   "execution_count": 13,
   "metadata": {},
   "outputs": [
    {
     "name": "stderr",
     "output_type": "stream",
     "text": [
      "100%|██████████| 956/956 [00:00<00:00, 1334.86it/s]\n"
     ]
    }
   ],
   "source": [
    "get_images_to_folder('/DATA1/chaitanya/KAIST/rgbt-ped-detection/data/kaist-rgbt', list(dict_person_ann.keys()))"
   ]
  },
  {
   "cell_type": "code",
   "execution_count": 14,
   "metadata": {},
   "outputs": [],
   "source": [
    "def get_annotations_to_folder(dict_ann):\n",
    "    \n",
    "    for each in tqdm(dict_ann.keys()):\n",
    "        fl_name = each.replace('/', '_')\n",
    "        anns = [' '.join(each_ann) for each_ann in dict_ann[each]]\n",
    "        with open(f'./annotations_TEST_20/{fl_name}.txt', 'w') as f:\n",
    "            for item in anns:\n",
    "                f.write(\"%s\\n\" % item)"
   ]
  },
  {
   "cell_type": "code",
   "execution_count": 15,
   "metadata": {},
   "outputs": [
    {
     "name": "stderr",
     "output_type": "stream",
     "text": [
      "100%|██████████| 956/956 [00:00<00:00, 10022.36it/s]\n"
     ]
    }
   ],
   "source": [
    "get_annotations_to_folder(dict_person_ann)"
   ]
  },
  {
   "cell_type": "code",
   "execution_count": null,
   "metadata": {},
   "outputs": [],
   "source": []
  }
 ],
 "metadata": {
  "kernelspec": {
   "display_name": "Python 3",
   "language": "python",
   "name": "python3"
  },
  "language_info": {
   "codemirror_mode": {
    "name": "ipython",
    "version": 3
   },
   "file_extension": ".py",
   "mimetype": "text/x-python",
   "name": "python",
   "nbconvert_exporter": "python",
   "pygments_lexer": "ipython3",
   "version": "3.6.7"
  }
 },
 "nbformat": 4,
 "nbformat_minor": 2
}
