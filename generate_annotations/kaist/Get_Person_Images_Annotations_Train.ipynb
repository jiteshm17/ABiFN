{
 "cells": [
  {
   "cell_type": "markdown",
   "metadata": {},
   "source": [
    "### Data Preparation and Splits for the Multimodal Object detection Experiment"
   ]
  },
  {
   "cell_type": "code",
   "execution_count": 1,
   "metadata": {},
   "outputs": [],
   "source": [
    "import numpy as np\n",
    "import pandas as pd\n",
    "import shutil\n",
    "from tqdm import tqdm\n",
    "# path to the original KAIST dataset (undisturbed)\n",
    "PATH = '/DATA1/chaitanya/KAIST/rgbt-ped-detection/data/kaist-rgbt'\n",
    "# train-all-02 is the train split provided by KAIST, 02 refers to every second image\n",
    "train_list = list(open(f'{PATH}/imageSets/train-all-02.txt'))\n",
    "# to strip /n from all file names\n",
    "train_list = [each.strip() for each in train_list]"
   ]
  },
  {
   "cell_type": "code",
   "execution_count": 2,
   "metadata": {},
   "outputs": [
    {
     "data": {
      "text/plain": [
       "25086"
      ]
     },
     "execution_count": 2,
     "metadata": {},
     "output_type": "execute_result"
    }
   ],
   "source": [
    "len(train_list)"
   ]
  },
  {
   "cell_type": "code",
   "execution_count": 3,
   "metadata": {},
   "outputs": [
    {
     "data": {
      "text/plain": [
       "['% bbGt version=3\\n',\n",
       " 'person 402 214 20 43 0 0 0 0 0 0 0\\n',\n",
       " 'person 391 215 20 44 0 0 0 0 0 0 0\\n']"
      ]
     },
     "execution_count": 3,
     "metadata": {},
     "output_type": "execute_result"
    }
   ],
   "source": [
    "ann = list(open('/DATA1/chaitanya/KAIST/rgbt-ped-detection/data/kaist-rgbt/annotations/set00/V004/I00751.txt'))\n",
    "# ann_file_path = '/DATA1/chaitanya/KAIST/rgbt-ped-detection/data/kaist-rgbt/annotations/set03/V001/I01343.txt'\n",
    "# ann_list = [each.split() for each in list(open(ann_file_path))]\n",
    "# # ann_list\n",
    "# if (len(ann_list) > 1) :\n",
    "#             ann_list_np = np.array(ann_list[1:])\n",
    "#             if 'person' in ann_list_np[:, 0]:\n",
    "#                 print('yes')\n",
    "# ann = list(open('/DATA1/chaitanya/KAIST/rgbt-ped-detection/data/kaist-rgbt/annotations/set00/V003/I00865.txt'))\n",
    "ann"
   ]
  },
  {
   "cell_type": "code",
   "execution_count": 4,
   "metadata": {},
   "outputs": [],
   "source": [
    "import pdb\n",
    "def get_person_annotations(annotations_path, images_list):\n",
    "    \"\"\"\n",
    "    This function is used to get a subset of the images with atleast one person in the image\n",
    "    annotations-path: Directory containing the annotations folder in format: set00/V000/I00001.txt\n",
    "    images_list: List of the images with each entry of list in format: set00/V000/I00001\n",
    "    \n",
    "    returns: subset of the images_list which contain atleast one person annotation\n",
    "    \"\"\"\n",
    "    # empty list to appned the subset of images_list which have atleast one person annotation\n",
    "    images_with_person = []\n",
    "    for each in images_list:\n",
    "        ann_file_path = f'{annotations_path}/{each}.txt'\n",
    "        # strip \\n from the strings\n",
    "        ann_list = [each_x.split() for each_x in list(open(ann_file_path))]\n",
    "        # first line of txt file is '% bbGt version=3\\n' so we used len(ann_list > 1)\n",
    "        # first element in each sublist of ann_list consists the category, so we have \n",
    "        # taken the first column from entires list and checked if person is present \n",
    "        # in the annotation file or not\n",
    "        if (len(ann_list) > 1) and ('person' in np.array(ann_list[1:])[:, 0]):\n",
    "                images_with_person.append(each)\n",
    "    \n",
    "    return images_with_person"
   ]
  },
  {
   "cell_type": "code",
   "execution_count": 5,
   "metadata": {
    "scrolled": true
   },
   "outputs": [],
   "source": [
    "subset_person = get_person_annotations('/DATA1/chaitanya/KAIST/rgbt-ped-detection/data/kaist-rgbt/annotations', train_list)"
   ]
  },
  {
   "cell_type": "code",
   "execution_count": 6,
   "metadata": {},
   "outputs": [
    {
     "data": {
      "text/plain": [
       "9288"
      ]
     },
     "execution_count": 6,
     "metadata": {},
     "output_type": "execute_result"
    }
   ],
   "source": [
    "len(subset_person)"
   ]
  },
  {
   "cell_type": "code",
   "execution_count": 7,
   "metadata": {},
   "outputs": [],
   "source": [
    "with open('person-only-kaist-train_02.txt', 'w') as f:\n",
    "    for each in subset_person:\n",
    "        f.write(f'{each}\\n')"
   ]
  },
  {
   "cell_type": "code",
   "execution_count": 8,
   "metadata": {},
   "outputs": [],
   "source": [
    "def get_person_only(annotations_path, subset_list):\n",
    "    '''\n",
    "    Extracts 'person' (only) annotations from the subset of images with atleast one person\n",
    "    Input:  annotations-path: Directory containing the annotations folder in format: set00/V000/I00001.txt\n",
    "            subset_list (output of get_person_annotations): subset of the images_list which contain atleast one person annotation\n",
    "    \n",
    "    returns: dataframe with file_path, category: 'person' and annotations\n",
    "    '''\n",
    "    # dict for holding the file paths and corresponding person annotatiosn from that\n",
    "    id_to_ann = {}\n",
    "    for each in subset_list:\n",
    "        id_to_ann[each] = []\n",
    "        # strip \\n from the strings\n",
    "        ann_file_path = f'{annotations_path}/{each}.txt'\n",
    "        ann_list = [each_x.split() for each_x in list(open(ann_file_path))]\n",
    "        for every_ann in ann_list:\n",
    "            if (every_ann[0] == 'person' and int(every_ann[3])*int(every_ann[4]) > 50):\n",
    "                id_to_ann[each].append(every_ann[1:5])\n",
    "    return id_to_ann"
   ]
  },
  {
   "cell_type": "code",
   "execution_count": 9,
   "metadata": {},
   "outputs": [],
   "source": [
    "dict_person_ann = get_person_only('/DATA1/chaitanya/KAIST/rgbt-ped-detection/data/kaist-rgbt/annotations', subset_person)"
   ]
  },
  {
   "cell_type": "code",
   "execution_count": 10,
   "metadata": {},
   "outputs": [],
   "source": [
    "sum = 0\n",
    "for each in dict_person_ann.values():\n",
    "    sum += len(each)"
   ]
  },
  {
   "cell_type": "code",
   "execution_count": 11,
   "metadata": {},
   "outputs": [
    {
     "data": {
      "text/plain": [
       "20733"
      ]
     },
     "execution_count": 11,
     "metadata": {},
     "output_type": "execute_result"
    }
   ],
   "source": [
    "sum"
   ]
  },
  {
   "cell_type": "code",
   "execution_count": 17,
   "metadata": {},
   "outputs": [],
   "source": [
    "sum = 0\n",
    "for each in dict_person_ann:\n",
    "    for each_ann in dict_person_ann[each]:\n",
    "        if (int(each_ann[-1]) * int(each_ann[-2]) < 50): sum += 1"
   ]
  },
  {
   "cell_type": "code",
   "execution_count": 18,
   "metadata": {},
   "outputs": [
    {
     "data": {
      "text/plain": [
       "0"
      ]
     },
     "execution_count": 18,
     "metadata": {},
     "output_type": "execute_result"
    }
   ],
   "source": [
    "sum"
   ]
  },
  {
   "cell_type": "code",
   "execution_count": 9,
   "metadata": {},
   "outputs": [],
   "source": [
    "string = ''\n",
    "for each in ['192', '214', '20', '43']:\n",
    "    \n",
    "    string = string + ' ' + each "
   ]
  },
  {
   "cell_type": "code",
   "execution_count": 23,
   "metadata": {},
   "outputs": [],
   "source": [
    "def get_images_to_folder(src_path, images_list):\n",
    "    for each in tqdm(images_list):\n",
    "        each_split = each.split('/')\n",
    "        src_lwir = f'{src_path}/images/{each_split[0]}/{each_split[1]}/lwir/{each_split[2]}.jpg'\n",
    "        src_visible = f'{src_path}/images/{each_split[0]}/{each_split[1]}/visible/{each_split[2]}.jpg'\n",
    "        fl_name = '_'.join(each_split)\n",
    "        dest_lwir = f'./images/lwir/{fl_name}.jpg'\n",
    "        dest_visble = f'./images/visible/{fl_name}.jpg'\n",
    "        shutil.copyfile(src_lwir, dest_lwir)\n",
    "        shutil.copyfile(src_visible, dest_visble)"
   ]
  },
  {
   "cell_type": "code",
   "execution_count": 24,
   "metadata": {},
   "outputs": [
    {
     "name": "stderr",
     "output_type": "stream",
     "text": [
      "100%|██████████| 9288/9288 [00:05<00:00, 1603.64it/s]\n"
     ]
    }
   ],
   "source": [
    "get_images_to_folder('/DATA1/chaitanya/KAIST/rgbt-ped-detection/data/kaist-rgbt', list(dict_person_ann.keys()))"
   ]
  },
  {
   "cell_type": "code",
   "execution_count": 32,
   "metadata": {},
   "outputs": [],
   "source": [
    "def get_annotations_to_folder(dict_ann):\n",
    "    \n",
    "    for each in tqdm(dict_ann.keys()):\n",
    "        fl_name = each.replace('/', '_')\n",
    "        anns = [' '.join(each_ann) for each_ann in dict_ann[each]]\n",
    "        with open(f'./annotations/{fl_name}.txt', 'w') as f:\n",
    "            for item in anns:\n",
    "                f.write(\"%s\\n\" % item)"
   ]
  },
  {
   "cell_type": "code",
   "execution_count": 33,
   "metadata": {},
   "outputs": [
    {
     "name": "stderr",
     "output_type": "stream",
     "text": [
      "100%|██████████| 9288/9288 [00:00<00:00, 12941.13it/s]\n"
     ]
    }
   ],
   "source": [
    "get_annotations_to_folder(dict_person_ann)"
   ]
  }
 ],
 "metadata": {
  "kernelspec": {
   "display_name": "Python 3",
   "language": "python",
   "name": "python3"
  },
  "language_info": {
   "codemirror_mode": {
    "name": "ipython",
    "version": 3
   },
   "file_extension": ".py",
   "mimetype": "text/x-python",
   "name": "python",
   "nbconvert_exporter": "python",
   "pygments_lexer": "ipython3",
   "version": "3.6.7"
  }
 },
 "nbformat": 4,
 "nbformat_minor": 2
}
